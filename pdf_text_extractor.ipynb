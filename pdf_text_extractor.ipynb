{
 "cells": [
  {
   "cell_type": "markdown",
   "id": "1adfe123",
   "metadata": {},
   "source": [
    "<h1>Extract Structure Data from PDF Document</h1>\n",
    "\n",
    "<p>In this article, I will show how to extract headers and paragraphs from PDF document with PyMuPDF and save it as JSON format.The PDF format is one of the most common formats for document format and it's really usefull to know how to read text for it.</p>"
   ]
  },
  {
   "cell_type": "markdown",
   "id": "5b1e9317",
   "metadata": {},
   "source": [
    "<h3>Create an enviroment with conda</h3>\n",
    "<p>With conda, we can create, export, list, remove, and update enviroments that have different versions of Python and/or packages installed in them.</p>"
   ]
  },
  {
   "cell_type": "code",
   "execution_count": 26,
   "id": "24d78fff",
   "metadata": {
    "collapsed": true
   },
   "outputs": [],
   "source": [
    "# conda create --name pdf_extractor\n",
    "\n",
    "# virtualenv --python python venv\n"
   ]
  },
  {
   "cell_type": "markdown",
   "id": "a682644b",
   "metadata": {},
   "source": [
    "<p>Replace <code>pdf_extractor</code> with your enviroment name.</p>\n",
    "<p>To activate an enviroment:</p>"
   ]
  },
  {
   "cell_type": "code",
   "execution_count": 27,
   "id": "72667239",
   "metadata": {
    "collapsed": true
   },
   "outputs": [],
   "source": [
    "# conda activate pdf_project"
   ]
  },
  {
   "cell_type": "markdown",
   "id": "e0e6d4f8",
   "metadata": {},
   "source": [
    "<h3> Install Jupyter Notebook</h3>"
   ]
  },
  {
   "cell_type": "code",
   "execution_count": 28,
   "id": "84a34490",
   "metadata": {
    "collapsed": true
   },
   "outputs": [],
   "source": [
    "# conda install -c conda-forge notebook\n",
    "# conda install -c conda-forge nb_conda_kernels"
   ]
  },
  {
   "cell_type": "markdown",
   "id": "d25c1da2",
   "metadata": {},
   "source": [
    "<h3>Start Jupyter Notebook</h3>"
   ]
  },
  {
   "cell_type": "code",
   "execution_count": 29,
   "id": "7435ce8a",
   "metadata": {
    "collapsed": true
   },
   "outputs": [],
   "source": [
    "#jupyter notebook"
   ]
  },
  {
   "cell_type": "markdown",
   "id": "f2d53ba6",
   "metadata": {},
   "source": [
    "<h3>Install libraries</h3>"
   ]
  },
  {
   "cell_type": "code",
   "execution_count": 30,
   "id": "7c915b04",
   "metadata": {
    "collapsed": true
   },
   "outputs": [],
   "source": [
    "#pip instal pymupdf\n",
    "#pip install fitz"
   ]
  },
  {
   "cell_type": "markdown",
   "id": "e6c3235f",
   "metadata": {},
   "source": [
    "<h3>Read PDF Document and Extract Text</h3>"
   ]
  },
  {
   "cell_type": "code",
   "execution_count": 1,
   "id": "0b64ce3b",
   "metadata": {},
   "outputs": [],
   "source": [
    "from operator import itemgetter\n",
    "import fitz\n",
    "import json"
   ]
  },
  {
   "cell_type": "markdown",
   "id": "e807370a",
   "metadata": {},
   "source": [
    "<h3>Open a PDF Document</h3>\n",
    "<p>Open a pdf document with <code>PyMuPDF</code> package, imported as <code>fitz</code>.</p>"
   ]
  },
  {
   "cell_type": "code",
   "execution_count": 2,
   "id": "8ebdd5fb",
   "metadata": {},
   "outputs": [],
   "source": [
    "filename = 'Australia legislation credit cards F2014L01710ES.pdf'\n",
    "doc = fitz.open(filename)"
   ]
  },
  {
   "cell_type": "markdown",
   "id": "612446e7",
   "metadata": {},
   "source": [
    "<p>Document Methods and Attributes:</p>"
   ]
  },
  {
   "cell_type": "code",
   "execution_count": 3,
   "id": "418ee09b",
   "metadata": {},
   "outputs": [
    {
     "data": {
      "text/plain": [
       "38"
      ]
     },
     "execution_count": 3,
     "metadata": {},
     "output_type": "execute_result"
    }
   ],
   "source": [
    "# The number of pages\n",
    "doc.page_count"
   ]
  },
  {
   "cell_type": "code",
   "execution_count": 4,
   "id": "5f43543f",
   "metadata": {},
   "outputs": [
    {
     "data": {
      "text/plain": [
       "[[1, 'Bookmarks', 1],\n",
       " [2, 'EXPLANATORY STATEMENT', 1],\n",
       " [2, 'SELECT LEGISLATIVE INSTRUMENT NO. 207, 2014', 1],\n",
       " [3, 'Issued by authority of the Treasurer', 1],\n",
       " [4, 'ATTACHMENT A', 3],\n",
       " [4, 'Statement of Compatibility with Human Rights', 3],\n",
       " [5, 'Overview of the Legislative Instrument', 4],\n",
       " [5, 'Human rights implications', 4],\n",
       " [5, 'Conclusion', 4],\n",
       " [4, 'CONTENTS', 6],\n",
       " [2, 'Limiting Access to ADIs is Preventing New Entry', 12],\n",
       " [2, 'Prudential Framework', 13],\n",
       " [2, 'Option 1: Maintain the Status Quo', 16],\n",
       " [2,\n",
       "  'Option 2: Remove the APRA SCCI Regime, but Retain Some Controls via the Access Regimes',\n",
       "  16],\n",
       " [2, 'Option 3: Remove All Access Regulation', 17],\n",
       " [2, 'Options Not Considered to be Feasible', 17],\n",
       " [2, 'Note: Visa Debit Access Regime', 17],\n",
       " [2, 'Option 1: Maintain the Status Quo', 19],\n",
       " [3, 'Benefits', 19],\n",
       " [3, 'Costs', 20],\n",
       " [4, 'Regulatory costs', 20],\n",
       " [4, 'Reduced participation and competition', 20],\n",
       " [4, 'Public sector costs', 20],\n",
       " [2,\n",
       "  'Option 2: Remove the APRA SCCI Regime, but Retain Some Controls via the Access Regimes',\n",
       "  21],\n",
       " [3, 'Benefits', 21],\n",
       " [4, 'Scenario 1', 21],\n",
       " [4, 'Scenario 2', 21],\n",
       " [3, 'Costs', 23],\n",
       " [4, 'Scenario 1', 23],\n",
       " [4, 'Scenario 2', 23],\n",
       " [3, 'Regulatory burden and cost offset estimate', 24],\n",
       " [3, 'Net benefits and costs under Option 2', 24],\n",
       " [2, 'Option 3: Remove all Access Regulation', 25],\n",
       " [3, 'Benefits', 25],\n",
       " [3, 'Costs', 26],\n",
       " [3, 'Regulatory burden and cost offset estimate', 27],\n",
       " [3, 'Net benefits and costs under Option 3', 27],\n",
       " [2, 'The Consultation Process', 28],\n",
       " [2, 'May 2013 Consultation', 29],\n",
       " [3, 'Views on current access arrangements', 29],\n",
       " [3, 'Options for reform', 29],\n",
       " [3, 'Views of the schemes', 30],\n",
       " [3, 'Other issues', 30],\n",
       " [4, 'ADI sponsorship and partnerships', 30],\n",
       " [4, 'A level playing field', 30],\n",
       " [4, 'Reserve Bank participation', 30],\n",
       " [2, 'December 2013 Consultation', 31],\n",
       " [3, 'Preferred option', 31],\n",
       " [3, 'Views of the schemes', 31],\n",
       " [2, 'Outcome of Consultation', 32],\n",
       " [3, '3. The Objective of Reform', 37],\n",
       " [3, '5. Impact Analysis', 37],\n",
       " [3, '6. Consultation', 38],\n",
       " [2, 'October 2014 Consultation', 38],\n",
       " [3, '7. Conclusion', 38]]"
      ]
     },
     "execution_count": 4,
     "metadata": {},
     "output_type": "execute_result"
    }
   ],
   "source": [
    "# The table contents\n",
    "doc.get_toc()"
   ]
  },
  {
   "cell_type": "markdown",
   "id": "8719c6a1",
   "metadata": {},
   "source": [
    "<h3>Working with Pages</h3>"
   ]
  },
  {
   "cell_type": "markdown",
   "id": "c89b1c50",
   "metadata": {},
   "source": [
    "<p> Method <code>get_text()</code> return dictionary that contains the page's text content.</p>\n",
    "<ul>\n",
    "    <li>A page consists of a list of block dictionaries.</li>\n",
    "    <li>A block consists of a list of line dictionaries.</li>\n",
    "    <li>A line consists of a list of span distionaries.</li>\n",
    "    <li>A span consists of the text itself, font, size, color, etc.</li>\n",
    "</ul>"
   ]
  },
  {
   "cell_type": "raw",
   "id": "4b4604dc",
   "metadata": {},
   "source": [
    "<page>\n",
    "    <text block>\n",
    "        <line>\n",
    "            <span>\n",
    "                <char>\n",
    "    <image block>\n",
    "        <img>"
   ]
  },
  {
   "cell_type": "markdown",
   "id": "e2455baf",
   "metadata": {},
   "source": [
    "<p>A <b>text</b> page consists of blocks.</p>\n",
    "<p>A <b>block</b> consists of either lines and their characters, or an image.</p>\n",
    "<p>A <b>line</b> consists of spans.</p>\n",
    "<p>A <b>span</b> consists of characters with identical font properties: name, size, flags and color.</p>"
   ]
  },
  {
   "cell_type": "markdown",
   "id": "cdb4ff92",
   "metadata": {},
   "source": [
    "<h3>DICT</h3>\n",
    "<p><code>page.get_text(\"dict\")</code> returns the structures of page and provides content for every block, line and span.</p>\n",
    "<img src=\"image.png\">"
   ]
  },
  {
   "cell_type": "code",
   "execution_count": 6,
   "id": "12d8e433",
   "metadata": {},
   "outputs": [],
   "source": [
    "styles = {}\n",
    "font_counts = {}\n",
    "\n",
    "for page in doc:\n",
    "    blocks = page.get_text(\"dict\")['blocks']\n",
    "    for block in blocks:\n",
    "        # Text block\n",
    "        if block['type']==0:\n",
    "            for line in block['lines']:\n",
    "                for span in line['spans']:\n",
    "                    span_id = \"{0}\".format(round(span['size']))\n",
    "                    styles[span_id] = {'size': round(span['size']), 'font': span['font']}\n",
    "                    font_counts[span_id] = font_counts.get(span_id, 0) + 1"
   ]
  },
  {
   "cell_type": "code",
   "execution_count": 7,
   "id": "3d4448b0",
   "metadata": {},
   "outputs": [
    {
     "name": "stdout",
     "output_type": "stream",
     "text": [
      "[('11', 1087), ('12', 210), ('10', 170), ('7', 133), ('9', 62), ('8', 38), ('20', 30), ('14', 25), ('16', 21), ('6', 20)]\n"
     ]
    }
   ],
   "source": [
    "font_counts = sorted(font_counts.items(), key=itemgetter(1), reverse=True)\n",
    "print(font_counts)"
   ]
  },
  {
   "cell_type": "code",
   "execution_count": 52,
   "id": "cb7b505c",
   "metadata": {},
   "outputs": [
    {
     "data": {
      "text/plain": [
       "{'14': {'size': 14, 'font': 'Palatino Linotype,Bold'},\n",
       " '12': {'size': 12, 'font': 'Times New Roman,Bold'},\n",
       " '8': {'size': 8, 'font': 'Times-Roman'},\n",
       " '7': {'size': 7, 'font': 'Palatino Linotype,Bold'},\n",
       " '20': {'size': 20, 'font': 'Palatino Linotype,Bold'},\n",
       " '16': {'size': 16, 'font': 'Palatino Linotype,Bold'},\n",
       " '11': {'size': 11, 'font': 'Calibri'},\n",
       " '6': {'size': 6, 'font': 'Calibri'},\n",
       " '9': {'size': 9, 'font': 'Calibri'},\n",
       " '10': {'size': 10, 'font': 'Calibri,Bold'}}"
      ]
     },
     "execution_count": 52,
     "metadata": {},
     "output_type": "execute_result"
    }
   ],
   "source": [
    "styles"
   ]
  },
  {
   "cell_type": "code",
   "execution_count": 8,
   "id": "59a937b6",
   "metadata": {},
   "outputs": [],
   "source": [
    "p_style = styles[font_counts[0][0]]  # get style for most used font by count (paragraph)\n",
    "p_size = float(p_style['size'])  # get the paragraph's size\n",
    "\n",
    "# sorting the font sizes high to low, so that we can append the right integer to each tag\n",
    "font_sizes = []\n",
    "for (font_size, count) in font_counts:\n",
    "    font_sizes.append(float(font_size))\n",
    "font_sizes.sort(reverse=True)"
   ]
  },
  {
   "cell_type": "code",
   "execution_count": 9,
   "id": "fa8d0ceb",
   "metadata": {},
   "outputs": [
    {
     "data": {
      "text/plain": [
       "[20.0, 16.0, 14.0, 12.0, 11.0, 10.0, 9.0, 8.0, 7.0, 6.0]"
      ]
     },
     "execution_count": 9,
     "metadata": {},
     "output_type": "execute_result"
    }
   ],
   "source": [
    "font_sizes"
   ]
  },
  {
   "cell_type": "code",
   "execution_count": 10,
   "id": "c66bd950",
   "metadata": {},
   "outputs": [],
   "source": [
    "# aggregating the tags for each font size\n",
    "idx = 0\n",
    "size_tag = {}\n",
    "\n",
    "for size in font_sizes:\n",
    "    idx += 1\n",
    "    if size > p_size:\n",
    "        size_tag[size] = '<h{0}>'.format(idx)\n",
    "    elif size == p_size:\n",
    "        size_tag[p_size] = '<p>'\n",
    "        idx = 0\n",
    "    elif size < p_size:\n",
    "        size_tag[size] = '<s{0}>'.format(idx)"
   ]
  },
  {
   "cell_type": "code",
   "execution_count": 11,
   "id": "c052cc4a",
   "metadata": {},
   "outputs": [
    {
     "data": {
      "text/plain": [
       "{20.0: '<h1>',\n",
       " 16.0: '<h2>',\n",
       " 14.0: '<h3>',\n",
       " 12.0: '<h4>',\n",
       " 11.0: '<p>',\n",
       " 10.0: '<s1>',\n",
       " 9.0: '<s2>',\n",
       " 8.0: '<s3>',\n",
       " 7.0: '<s4>',\n",
       " 6.0: '<s5>'}"
      ]
     },
     "execution_count": 11,
     "metadata": {},
     "output_type": "execute_result"
    }
   ],
   "source": [
    "size_tag"
   ]
  },
  {
   "cell_type": "code",
   "execution_count": 12,
   "id": "dc81f7b5",
   "metadata": {},
   "outputs": [],
   "source": [
    "header_paragraph = []  # list with headers and paragraphs\n",
    "first = True  # boolean operator for first header\n",
    "previous_s = {}  # previous span\n",
    "\n",
    "for page in doc:\n",
    "    blocks = page.get_text(\"dict\")[\"blocks\"]\n",
    "    for b in blocks:  # iterate through the text blocks\n",
    "        if b['type'] == 0:  # this block contains text\n",
    "\n",
    "            # REMEMBER: multiple fonts and sizes are possible IN one block\n",
    "\n",
    "            block_string = \"\"  # text found in block\n",
    "            for l in b[\"lines\"]:  # iterate through the text lines\n",
    "                for s in l[\"spans\"]:  # iterate through the text spans\n",
    "                    if s['text'].strip():  # removing whitespaces:\n",
    "                        if first:\n",
    "                            previous_s = s\n",
    "                            first = False\n",
    "                            block_string = size_tag[round(s['size'])] + s['text']\n",
    "                        else:\n",
    "                            if s['size'] == previous_s['size']:\n",
    "\n",
    "                                if block_string and all((c == \"|\") for c in block_string):\n",
    "                                    # block_string only contains pipes\n",
    "                                    block_string = size_tag[round(s['size'])] + s['text']\n",
    "                                if block_string == \"\":\n",
    "                                    # new block has started, so append size tag\n",
    "                                    block_string = size_tag[round(s['size'])] + s['text']\n",
    "                                else:  # in the same block, so concatenate strings\n",
    "                                    block_string += \" \" + s['text']\n",
    "\n",
    "                            else:\n",
    "                                header_paragraph.append(block_string)\n",
    "                                block_string = size_tag[round(s['size'])] + s['text']\n",
    "\n",
    "                            previous_s = s\n",
    "\n",
    "                # new block started, indicating with a pipe\n",
    "                block_string += \"|\"\n",
    "\n",
    "            header_paragraph.append(block_string)"
   ]
  },
  {
   "cell_type": "code",
   "execution_count": 13,
   "id": "dff5a332",
   "metadata": {},
   "outputs": [],
   "source": [
    "headers=[]\n",
    "para=[]\n",
    "h_=\"\"\n",
    "document=[]\n",
    "d=dict()\n",
    "for h in header_paragraph:\n",
    "    d=dict()\n",
    "    if h.startswith('<h') or h.startswith('<p'):\n",
    "        #print(h)\n",
    "        #print('------------------------')\n",
    "        if len(h.split(\" \"))<20 and not h.startswith('<p'):\n",
    "            d[h.split('>')[0]+\">\"]={\"text\":h.split('>')[-1].replace('|',''),\"paragraph\":[]}\n",
    "            document.append(d)\n",
    "\n",
    "        elif h.startswith('<p'):\n",
    "            last_element = document.pop()\n",
    "            #print(last_element[list(last_element.keys())[0]][\"paragraph\"])\n",
    "            #last_element[list(last_element.keys())[0]][\"paragraph\"]=last_element[list(last_element.keys())[0]][\"paragraph\"]+h.split('>')[-1].replace('|','')\n",
    "            last_element[list(last_element.keys())[0]][\"paragraph\"].append(h.split('>')[-1].replace('|',''))\n",
    "            document.append(last_element)\n",
    "        else:\n",
    "            last_element = document.pop()\n",
    "            #print(last_element[list(last_element.keys())[0]][\"paragraph\"])\n",
    "            last_element[list(last_element.keys())[0]][\"paragraph\"].append(h.split('>')[-1].replace('|',''))\n",
    "            document.append(last_element)\n",
    "            \n",
    "with open(\"doc.json\", 'w') as json_out:\n",
    "    json.dump(document, json_out,indent=2)"
   ]
  },
  {
   "cell_type": "code",
   "execution_count": 59,
   "id": "e7067037",
   "metadata": {},
   "outputs": [],
   "source": [
    "#document"
   ]
  }
 ],
 "metadata": {
  "kernelspec": {
   "display_name": "pdf_project",
   "language": "python",
   "name": "pdf_project"
  },
  "language_info": {
   "codemirror_mode": {
    "name": "ipython",
    "version": 3
   },
   "file_extension": ".py",
   "mimetype": "text/x-python",
   "name": "python",
   "nbconvert_exporter": "python",
   "pygments_lexer": "ipython3",
   "version": "3.10.4"
  }
 },
 "nbformat": 4,
 "nbformat_minor": 5
}
